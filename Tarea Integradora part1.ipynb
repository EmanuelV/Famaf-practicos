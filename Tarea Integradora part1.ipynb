Diplomatura AACSyA 2018 - FaMAF - UNC
Análisis y visualización de datos
Tarea integradora - Parte 1
En esta notebook presentamos una serie de ejercicios para trabajar con variables aleatorias discretas, tanto númericas como cátegoricas, ejemplificando los conceptos de probabilidad explicados en clase. Lo primero es determinar si todas las librerías están correctamente instaladas.


# %matplotlib notebook
%matplotlib inline
import pandas
import numpy
import seaborn
# %matplotlib notebook
%matplotlib inline
import pandas
import numpy
import seaborn
Una vez importamos las librerías definimos los gráficos con seaborn.


seaborn.set_style('whitegrid')
seaborn.set_context('talk')
seaborn.set_style('whitegrid')
seaborn.set_context('talk')
Cargar el dataset en un dataframe de pandas
Los dataframes son tablas con un montón de operaciones ya programadas. Prácticamente todas las funciones de SQL se pueden realizar en pandas con pocas líneas. Además de eso, tiene funciones para leer y escribir archivos en numerosos formatos.

Ahora leemos directamente el archivo .csv


dataset = pandas.read_csv('https://cs.famaf.unc.edu.ar/~mteruel/datasets/diplodatos/violencia-institucional-2018-01.csv',
                          encoding='utf8')
dataset = pandas.read_csv('https://cs.famaf.unc.edu.ar/~mteruel/datasets/diplodatos/violencia-institucional-2018-01.csv',
                          encoding='utf8')

dataset[:3]
dataset[:3]
area	organismo_origen	via_acceso	año	provincia	contexto	contexto1	circunstancia	alojamiento	violencia_fisica	violencia_psiquica	violencia_genero	violencia_salud	resumen_hecho	descripcion_institucion	establecimiento	Unnamed: 16
0	DNPCVI	SECRETARIA DE DDHH	Telefónica	2017,00	Buenos Aires	Situaciones de Detención	Penal / Complejo Penitenciario PROVINCIAL	NaN	NaN	NaN	NaN	NaN	Denegación acceso atención médica	NaN	Servicio Penitenciario Provincial	UPP Nº 13 Junin	NaN
1	DNPCVI	SECRETARIA DE DDHH	Telefónica	2017,00	Buenos Aires	Situaciones de Detención	Penal / Complejo Penitenciario PROVINCIAL	NaN	Malas condiciones de alojamiento (higiene), Hu...	NaN	NaN	NaN	Denegación acceso atención médica	NaN	Servicio Penitenciario Provincial	UPP Nº 13 DE JUNIN	NaN
2	DNPCVI	SECRETARIA DE DDHH	Telefónica	2017,00	Buenos Aires	Situaciones de Detención	Penal / Complejo Penitenciario PROVINCIAL	NaN	Malas condiciones de alojamiento (higiene)	NaN	NaN	NaN	NaN	NaN	Servicio Penitenciario Provincial	UPP Nº 36 de Magdalena	NaN
Los valores para los años no tienen un formato consistente en todas las filas, por lo que los procesaremos antes de comenzar. Los valores de año faltantes son reemplazados por NaN, y como la representación de enteros de numpy no soporta este tipo de valores, convertiremos cada año a tipo numpy.float. Otras decisiones pueden ser tomadas en este punto, como reemplazar los valores faltantes por 0 o elminarlos del dataset, dependiendo del tipo de datos que se requiera.

También cambiaremos el nombre de la columna año, ya que el caracter ñ no permite utilizar el syntax sugar de pandas donde se obtienen los valores de la columna con la sintáxis de llamar a un método.


import six
def convert_to_int(row):
    try:
        return float(row)
    except ValueError:
        if isinstance(row, six.string_types):
            return float(row.split(',')[0])
        return row

dataset.loc[:,'year'] = dataset[u'año'].apply(convert_to_int)
# Se podrían también decodicar los nombres de provincias
# dataset.loc[:,'provincia'] = dataset.provincia.apply(lambda x: x.decode("utf-8"))
import six
def convert_to_int(row):
    try:
        return float(row)
    except ValueError:
        if isinstance(row, six.string_types):
            return float(row.split(',')[0])
        return row
​
dataset.loc[:,'year'] = dataset[u'año'].apply(convert_to_int)
# Se podrían también decodicar los nombres de provincias
# dataset.loc[:,'provincia'] = dataset.provincia.apply(lambda x: x.decode("utf-8"))

ar.dropna().shape
dataset.shape, dataset.year.dropna().shape
((1439, 18), (1316,))

dataset[:24]
area	organismo_origen	via_acceso	año	provincia	contexto	contexto1	circunstancia	alojamiento	violencia_fisica	violencia_psiquica	violencia_genero	violencia_salud	resumen_hecho	descripcion_institucion	establecimiento	Unnamed: 16	year
0	DNPCVI	SECRETARIA DE DDHH	Telefónica	2017,00	Buenos Aires	Situaciones de Detención	Penal / Complejo Penitenciario PROVINCIAL	NaN	NaN	NaN	NaN	NaN	Denegación acceso atención médica	NaN	Servicio Penitenciario Provincial	UPP Nº 13 Junin	NaN	2017.0
1	DNPCVI	SECRETARIA DE DDHH	Telefónica	2017,00	Buenos Aires	Situaciones de Detención	Penal / Complejo Penitenciario PROVINCIAL	NaN	Malas condiciones de alojamiento (higiene), Hu...	NaN	NaN	NaN	Denegación acceso atención médica	NaN	Servicio Penitenciario Provincial	UPP Nº 13 DE JUNIN	NaN	2017.0
2	DNPCVI	SECRETARIA DE DDHH	Telefónica	2017,00	Buenos Aires	Situaciones de Detención	Penal / Complejo Penitenciario PROVINCIAL	NaN	Malas condiciones de alojamiento (higiene)	NaN	NaN	NaN	NaN	NaN	Servicio Penitenciario Provincial	UPP Nº 36 de Magdalena	NaN	2017.0
3	DNPCVI	SECRETARIA DE DDHH	Telefónica	2017,00	Buenos Aires	Situaciones de Detención	Comisaría	NaN	Mala alimentación, Malas condiciones de alojam...	NaN	Alejamiento de vínculos	NaN	NaN	NaN	Policia Provincial	Comisaria Nº 3 de Rafael Castillo	NaN	2017.0
4	DNPCVI	SECRETARIA DE DDHH	Telefónica	2017,00	Buenos Aires	Situaciones de Detención	Penal / Complejo Penitenciario PROVINCIAL	NaN	NaN	Golpes	NaN	NaN	NaN	NaN	Servicio Penitenciario Provincial	NaN	NaN	2017.0
5	DNPCVI	SECRETARIA DE DDHH	Telefónica	2017,00	Buenos Aires	Situaciones de Detención	Penal / Complejo Penitenciario PROVINCIAL	NaN	NaN	Golpes	Alejamiento de vínculos	NaN	NaN	NaN	Servicio Penitenciario Provincial	NaN	NaN	2017.0
6	DNPCVI	SECRETARIA DE DDHH	Telefónica	2017,00	Buenos Aires	Situaciones de Detención	Penal / Complejo Penitenciario PROVINCIAL	NaN	NaN	NaN	NaN	NaN	Denegación de acceso atención terapéutica, Fal...	NaN	Servicio Penitenciario Provincial	UPP Nº 49 JUNIN	NaN	2017.0
7	DNPCVI	SECRETARIA DE DDHH	Telefónica	2017,00	Buenos Aires	Situaciones de Detención	Penal / Complejo Penitenciario PROVINCIAL	NaN	NaN	NaN	Alejamiento de vínculos	NaN	NaN	NaN	Servicio Penitenciario Provincial	NaN	NaN	2017.0
8	DNPCVI	SECRETARIA DE DDHH	Telefónica	2017,00	Buenos Aires	Situaciones de Detención	Penal / Complejo Penitenciario PROVINCIAL	NaN	NaN	NaN	NaN	NaN	Denegación acceso atención médica, Falta de ac...	NaN	Servicio Penitenciario Provincial	UPP Nº 28 de Magdalena	NaN	2017.0
9	DNPCVI	SECRETARIA DE DDHH	Telefónica	2017,00	Buenos Aires	Situaciones de Detención	Penal / Complejo Penitenciario PROVINCIAL	NaN	NaN	NaN	Otras formas de maltrato psicológico	NaN	NaN	NaN	Servicio Penitenciario Provincial	UPP Nº 42 de Florencio Varela	NaN	2017.0
10	DNPCVI	SECRETARIA DE DDHH	Telefónica	2017,00	Buenos Aires	Situaciones de Detención	Penal / Complejo Penitenciario FEDERAL	NaN	NaN	NaN	NaN	NaN	Denegación acceso atención médica	NaN	Servicio Penitenciario Federal	CPF Nº 2 MARCOS PAZ	NaN	2017.0
11	DNPCVI	SECRETARIA DE DDHH	Telefónica	2017,00	Buenos Aires	Situaciones de Detención	Penal / Complejo Penitenciario PROVINCIAL	NaN	Mala alimentación	NaN	Extorsión, forzamiento de la conducta, incitac...	NaN	NaN	NaN	Servicio Penitenciario Provincial	UPP Nº 17 Urdampilleta	NaN	2017.0
12	DNPCVI	SECRETARIA DE DDHH	Telefónica	2017,00	Buenos Aires	Situaciones de Detención	Penal / Complejo Penitenciario FEDERAL	NaN	NaN	NaN	NaN	NaN	Falta de acceso ayudas técnicas y/o elementos ...	NaN	Servicio Penitenciario Federal	UPF Nº 2 Marcos Paz	NaN	2017.0
13	DNPCVI	SECRETARIA DE DDHH	Telefónica	2017,00	Buenos Aires	Situaciones de Detención	Penal / Complejo Penitenciario PROVINCIAL	NaN	NaN	NaN	NaN	NaN	Denegación acceso atención médica	NaN	Servicio Penitenciario Provincial	UPP Nº 48 de San Martin	NaN	2017.0
14	DNPCVI	SECRETARIA DE DDHH	Telefónica	2017,00	Buenos Aires	Situaciones de Detención	Penal / Complejo Penitenciario PROVINCIAL	NaN	Hurto / Robo de pertenencias	Golpes	NaN	NaN	Denegación acceso atención médica, Falta de ad...	NaN	Servicio Penitenciario Provincial	UPP Nº 37 BARKER	NaN	2017.0
15	DNPCVI	SECRETARIA DE DDHH	Telefónica	2017,00	Buenos Aires	Situaciones de Detención	Penal / Complejo Penitenciario PROVINCIAL	NaN	NaN	NaN	NaN	NaN	Denegación acceso atención médica, Falta de ad...	NaN	Servicio Penitenciario Provincial	UPP Nº 27 Magdalena	NaN	2017.0
16	DNPCVI	SECRETARIA DE DDHH	Telefónica	2017,00	Buenos Aires	Situaciones de Detención	Comisaría	NaN	Mala alimentación, Malas condiciones de alojam...	NaN	NaN	NaN	Falta de administración de medicación	NaN	Policia Provincial	Comisaria 7	NaN	2017.0
17	DNPCVI	SECRETARIA DE DDHH	Telefónica	2017,00	Buenos Aires	Situaciones de Detención	Penal / Complejo Penitenciario PROVINCIAL	NaN	NaN	NaN	NaN	NaN	Denegación acceso atención médica, Falta de ad...	NaN	Servicio Penitenciario Provincial	UPP Nº 39 Ituzaingo	NaN	2017.0
18	DNPCVI	SECRETARIA DE DDHH	Telefónica	2017,00	Buenos Aires	Situaciones de Detención	Penal / Complejo Penitenciario PROVINCIAL	NaN	Mala alimentación, Malas condiciones de alojam...	NaN	NaN	NaN	Denegación acceso atención médica	NaN	Servicio Penitenciario Provincial	UPP Nº 8 Los Hornos	NaN	2017.0
19	DNPCVI	SECRETARIA DE DDHH	Telefónica	2017,00	Buenos Aires	Situaciones de Tránsito	Espacio Público	NaN	NaN	Otras formas de maltrato físico	Hostigamiento, Amenazas	Violación grupal	NaN	NaN	Servicio Penitenciario Provincial	Comisaria N° 1 de Avellaneda	NaN	2017.0
20	DNPCVI	SECRETARIA DE DDHH	Telefónica	2017,00	Buenos Aires	Situaciones de Detención	Penal / Complejo Penitenciario PROVINCIAL	NaN	Segregación / Confinamiento	Golpes	NaN	NaN	NaN	NaN	Servicio Penitenciario Provincial	UPP N° 30 de Alvear	NaN	2017.0
21	DNPCVI	SECRETARIA DE DDHH	Telefónica	2017,00	Buenos Aires	Situaciones de Detención	Penal / Complejo Penitenciario PROVINCIAL	NaN	NaN	NaN	NaN	NaN	Falta de administración de medicación	NaN	Servicio Penitenciario Provincial	UPP N° 40 de Lomas de Zamora	NaN	2017.0
22	DNPCVI	SECRETARIA DE DDHH	Telefónica	2017,00	Santiago del Estero	Situaciones de Detención	Penal / Complejo Penitenciario FEDERAL	NaN	NaN	NaN	NaN	NaN	Denegación acceso atención médica, Falta de ac...	NaN	Servicio Penitenciario Federal	Unidad Penal N° 35 Colonia Pinto	NaN	2017.0
23	DNPCVI	SECRETARIA DE DDHH	Telefónica	2017,00	Buenos Aires	Situaciones de Detención	Penal / Complejo Penitenciario PROVINCIAL	NaN	NaN	NaN	NaN	NaN	Denegación acceso atención médica, Traslado po...	NaN	Servicio Penitenciario Provincial	NaN	NaN	2017.0
Ejercicios
Ejercicio 1
Crear una imagen mostrando la distribución de los eventos por año

Construir una tabla de frecuencia de probabilidades dado el evento Y = ’año en el que ocurrió’

fdp(Y)
fdp(Y)
Crear una imagen de dichas probabilidades con el gráfico que considere adecuado. ¿Son ambos gráficos iguales? ¿Cuál considera que es más útil?

¿A qué se debe la forma de la distribución? ¿Qué tendencia muestra? ¿Ha aumentado la violencia institucional en los últimos años?

Calcular la función de distribución acumulada de la variable Y y graficarla. ¿Cuál es la probabilidad de que haya dado un acto de violencia antes del último cambio de gobierno?

IMPORTANTE: ¿Qué hacemos con los datos faltantes?


def per_year_events():
    yeardataset = dataset[(dataset.year != 0 )].sort_values('year', ascending=False).year.value_counts()
    ax = seaborn.barplot(data=yeardataset.to_frame().reset_index(),
        y='year', x='index', color='#5ecc71', orient="v")
    ax.set_xticklabels(ax.get_xticklabels(), rotation=90, ha="right")
    ax.set_xlabel('año')
    ax.set_title('Eventos de violencia por año')
    seaborn.despine()
per_year_events()


def per_year_freq_probabilities():
    yeardataset = dataset[(dataset.year != 0 )].sort_values('year', ascending=False).year.value_counts(normalize=True)
    ax = seaborn.barplot(data=yeardataset.to_frame().reset_index(),
        y='year', x='index', color='#2ecc71', orient="v")
    ax.set_xticklabels(ax.get_xticklabels(), rotation=90, ha="right")
    ax.set_ylabel('probabilidad')
    ax.set_xlabel('año')
    ax.set_title('Probabilidades de eventos por año')
    seaborn.despine()
per_year_freq_probabilities()

Ejercicio 2
Construir una tabla de frecuencia de probabilidades dado el evento X = ’provincia donde se desarrollo el hecho’
fdp(X)
fdp(X)
¿Qué información adicional es necesaria para mostrar estos datos de manera más adecuada?
Muestre la distribución de los eventos visualmente. ¿Qué tipo de gráfico es más adecuado para mostrar esta información?
Ejercicio 3
Construir una tabla de doble entrada donde se observen las función de distribución de probabilidades con las 2 variables aleatorias anteriores. ¿Son eventos independientes?

Crear una imagen de dichas probabilidades con el gráfico que considere adecuado.

Ejercicio 4
Dada la variable aleatoria Z = ’contexto1 en el que se produjo el hecho’, calcular la probabilidad que el hecho sea producido en una dependencia de una fuerza de seguridad (penal, comisaría, etc)

fdp(z=penal  |  z=comisaria  |...)
fdp(z=penal  |  z=comisaria  |...)
Ejercicio 5
Dada la variable aleatoria M = ‘existió violencia fisica’:

¿Que probabilidad existe que también tenga violencia psíquica? N = ‘existió violencia psíquica’
P(M  |  N)
P(M  |  N)
¿Qué conclusión se puede formular de los datos que tenemos y los datos que obtenemos de los métodos probabilísticos?
¿Podemos concluir en que son eventos independientes dadas las muestras?
