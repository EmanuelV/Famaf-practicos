{
 "cells": [
  {
   "cell_type": "code",
   "execution_count": 1,
   "metadata": {},
   "outputs": [
    {
     "name": "stdout",
     "output_type": "stream",
     "text": [
      "0\n",
      "6\n"
     ]
    }
   ],
   "source": [
    "edgeList = [[0, 2], [1,3], [2,3], [2,4],[3,5], [4,5]];\n",
    "print (edgeList[0][0])\n",
    "print (len(edgeList))\n"
   ]
  },
  {
   "cell_type": "code",
   "execution_count": 2,
   "metadata": {},
   "outputs": [
    {
     "name": "stdout",
     "output_type": "stream",
     "text": [
      "[0, 1, 2, 2, 3, 4]\n",
      "[2, 3, 3, 4, 5, 5]\n"
     ]
    }
   ],
   "source": [
    "# Transformamos los ejes en dos listas para poder operar mejor.\n",
    "\n",
    "vert_a =  [[] for i in range (len(edgeList))]\n",
    "vert_b =  [[] for i in range (len(edgeList))]\n",
    "\n",
    "for i in range (len(edgeList)):\n",
    "    vert_a[i] = edgeList[i][0]\n",
    "    vert_b[i] = edgeList[i][1]\n",
    "\n",
    "print(vert_a)\n",
    "print(vert_b)\n",
    "\n"
   ]
  },
  {
   "cell_type": "code",
   "execution_count": 3,
   "metadata": {},
   "outputs": [
    {
     "name": "stdout",
     "output_type": "stream",
     "text": [
      "Lista de Adjacencia: \n",
      "0 : [2]\n",
      "1 : [3]\n",
      "2 : [3, 4]\n",
      "3 : [5]\n",
      "4 : [5]\n",
      "5 : []\n"
     ]
    }
   ],
   "source": [
    "lista = [[] for k in range(len(edgeList))]\n",
    "for i in range(len(lista)):\n",
    "    a = vert_a[i]\n",
    "    b = vert_b[i]\n",
    "    lista[a].append(b)\n",
    "    \n",
    "print(\"Lista de Adjacencia: \")\n",
    "for i in range(len(lista)):\n",
    "        print(i, \":\", lista[i])"
   ]
  },
  {
   "cell_type": "code",
   "execution_count": 20,
   "metadata": {},
   "outputs": [
    {
     "name": "stdout",
     "output_type": "stream",
     "text": [
      "Matriz de Adjacencia: \n",
      "  |0  1  2  3  4  5\n",
      "-------------------\n",
      "0 |0  0  1  0  0  0  \n",
      "1 |0  0  0  1  0  0  \n",
      "2 |0  0  0  1  1  0  \n",
      "3 |0  0  0  0  0  1  \n",
      "4 |0  0  0  0  0  1  \n",
      "5 |0  0  0  0  0  0  \n"
     ]
    }
   ],
   "source": [
    "matriz = [[0 for i in range(len(lista))] for k in range(len(lista))]\n",
    "    \n",
    "for i in range(len(vert_a)):\n",
    "    u = vert_a[i]\n",
    "    v = vert_b[i]\n",
    "    matriz[u][v] = 1\n",
    "\n",
    "print(\"Matriz de Adjacencia: \")\n",
    "print(\"  |0  1  2  3  4  5\")\n",
    "print(\"-------------------\")\n",
    "for i in range(len(matriz)):\n",
    "        print(i,'|', end='')\n",
    "        for k in range(len(matriz[0])):\n",
    "            print(matriz[i][k], \" \", end='')\n",
    "        print('')\n"
   ]
  }
 ],
 "metadata": {
  "kernelspec": {
   "display_name": "Python 3",
   "language": "python",
   "name": "python3"
  },
  "language_info": {
   "codemirror_mode": {
    "name": "ipython",
    "version": 3
   },
   "file_extension": ".py",
   "mimetype": "text/x-python",
   "name": "python",
   "nbconvert_exporter": "python",
   "pygments_lexer": "ipython3",
   "version": "3.6.4"
  }
 },
 "nbformat": 4,
 "nbformat_minor": 2
}
